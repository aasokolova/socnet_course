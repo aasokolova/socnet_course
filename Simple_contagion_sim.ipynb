{
  "nbformat": 4,
  "nbformat_minor": 0,
  "metadata": {
    "colab": {
      "provenance": [],
      "authorship_tag": "ABX9TyMzYRRy0/y0x5QaZq3wvea1",
      "include_colab_link": true
    },
    "kernelspec": {
      "name": "python3",
      "display_name": "Python 3"
    },
    "language_info": {
      "name": "python"
    }
  },
  "cells": [
    {
      "cell_type": "markdown",
      "metadata": {
        "id": "view-in-github",
        "colab_type": "text"
      },
      "source": [
        "<a href=\"https://colab.research.google.com/github/aasokolova/socnet_course/blob/main/Simple_contagion_sim.ipynb\" target=\"_parent\"><img src=\"https://colab.research.google.com/assets/colab-badge.svg\" alt=\"Open In Colab\"/></a>"
      ]
    },
    {
      "cell_type": "markdown",
      "source": [
        "# **AS, 25.02.2025**\n"
      ],
      "metadata": {
        "id": "itvUmrtdNBxy"
      }
    },
    {
      "cell_type": "markdown",
      "source": [
        "*SocNet in SocSciRes: Session 3*"
      ],
      "metadata": {
        "id": "5ogwPd4ZNqRL"
      }
    },
    {
      "cell_type": "markdown",
      "source": [
        "1. Import necessary packages"
      ],
      "metadata": {
        "id": "xnImeQ2mN8x5"
      }
    },
    {
      "cell_type": "code",
      "source": [
        "import networkx as nx\n",
        "import matplotlib.pyplot as plt\n",
        "import random\n",
        "import imageio"
      ],
      "metadata": {
        "id": "qMfy4NcCNrtp"
      },
      "execution_count": null,
      "outputs": []
    },
    {
      "cell_type": "markdown",
      "source": [
        "2. Create a graph: core-periphery network (Option 2)"
      ],
      "metadata": {
        "id": "HbjnnsgmOD-o"
      }
    },
    {
      "cell_type": "code",
      "source": [
        "G = nx.Graph()\n",
        "\n",
        "### Define core nodes\n",
        "core_nodes = [f'C{i}' for i in range(6)]\n",
        "for node in core_nodes:\n",
        "    G.add_node(node, type='core')\n",
        "\n",
        "### Define peripheral nodes with intra-cluster ties\n",
        "peripheral_nodes = {}\n",
        "for i, core in enumerate(core_nodes):\n",
        "    peripheral_nodes[core] = [f'P{i}_{j}' for j in range(5)]\n",
        "    for p in peripheral_nodes[core]:\n",
        "        G.add_node(p, type='periphery')\n",
        "        G.add_edge(core, p)  # Connect periphery to core\n",
        "    # Add intra-cluster ties between peripheral nodes\n",
        "    for p1 in peripheral_nodes[core]:\n",
        "        for p2 in peripheral_nodes[core]:\n",
        "            if p1 != p2:\n",
        "                G.add_edge(p1, p2)\n",
        "\n",
        "### Connect core nodes\n",
        "core_edges = [\n",
        "    ('C0', 'C1'), ('C1', 'C2'), ('C2', 'C3'), ('C3', 'C4'), ('C4', 'C5'), ('C5', 'C0'),\n",
        "    ('C0', 'C2'), ('C2', 'C4'), ('C1', 'C3'), ('C3', 'C5')\n",
        "]\n",
        "G.add_edges_from(core_edges)\n",
        "\n",
        "### Define colors: 'Brick red' for core, 'Navy'  for periphery\n",
        "color_map = {'core': '#B22222', 'periphery': '#001F3F'}\n",
        "\n",
        "### Plot the network\n",
        "plt.figure(figsize=(8, 6))\n",
        "pos = nx.spring_layout(G, seed=42)\n",
        "node_colors = [color_map[G.nodes[n]['type']] for n in G.nodes]\n",
        "nx.draw(G, pos, with_labels=True, node_color=node_colors, node_size=300, edge_color='gray', font_size=8)\n",
        "plt.title(\"Core-Periphery Network\")\n",
        "plt.show()"
      ],
      "metadata": {
        "id": "KZxVQlu1OL4h"
      },
      "execution_count": null,
      "outputs": []
    },
    {
      "cell_type": "markdown",
      "source": [
        "3. Run a simple contagion simulation"
      ],
      "metadata": {
        "id": "RjDYx3rZPsxz"
      }
    },
    {
      "cell_type": "code",
      "source": [
        "### Reset node states\n",
        "for node in G.nodes:\n",
        "    G.nodes[node]['state'] = 0\n",
        "initial_adopter = 'C0'\n",
        "G.nodes[initial_adopter]['state'] = 1\n",
        "\n",
        "### Define my own contagion model parameters\n",
        "adoption_prob = 0.3  # Probability of adoption per step\n",
        "steps = 10  # Maximum steps to run simulation\n",
        "\n",
        "### Simple diffusion step\n",
        "def simple_diffusion_step(G, adoption_prob):\n",
        "    new_adopters = []\n",
        "    for node in G.nodes:\n",
        "        if G.nodes[node]['state'] == 0:  # if not yet adopted (state 0)\n",
        "            neighbors = list(G.neighbors(node))\n",
        "            adopted_neighbors = sum(G.nodes[n]['state'] for n in neighbors)\n",
        "            if adopted_neighbors > 0 and random.random() < adoption_prob:\n",
        "                new_adopters.append(node)\n",
        "    for node in new_adopters:\n",
        "        G.nodes[node]['state'] = 1\n",
        "    return len(new_adopters) > 0  # Loop stops if no new adoptions occur"
      ],
      "metadata": {
        "id": "TsO6S5kTP1ks"
      },
      "execution_count": null,
      "outputs": []
    },
    {
      "cell_type": "markdown",
      "source": [
        "4. Create a GIF"
      ],
      "metadata": {
        "id": "V0JkE66XXFAs"
      }
    },
    {
      "cell_type": "code",
      "source": [
        "frames = []\n",
        "pos = nx.spring_layout(G, seed=42)  # Fixed layout for consistency\n",
        "adopted_color = \"#CDA434\"  # Mustard yellow color for adoptee nodes\n",
        "duration_per_frame = 2.0  # Slower animation\n",
        "\n",
        "for step in range(steps):\n",
        "    if not simple_diffusion_step(G, adoption_prob):\n",
        "        break\n",
        "    fig, ax = plt.subplots(figsize=(8, 6))\n",
        "    node_colors = [color_map[G.nodes[n]['type']] if G.nodes[n]['state'] == 0 else adopted_color for n in G.nodes]\n",
        "    nx.draw(G, pos, node_color=node_colors, node_size=300, edge_color='gray')\n",
        "    ax.set_title(f\"Simple Contagion - Step {step+1}\")\n",
        "    frame_path = f\"simple_diffusion_step_{step+1}.png\"\n",
        "    plt.savefig(frame_path)\n",
        "    plt.close(fig)\n",
        "    frames.append(frame_path)\n",
        "\n",
        "### Create GIF from frames\n",
        "gif_path = \"simple_diffusion.gif\"\n",
        "imageio.mimsave(gif_path, [imageio.imread(frame) for frame in frames], duration=duration_per_frame)\n",
        "\n",
        "### File path for download\n",
        "print(f\"GIF saved as: {gif_path}\")"
      ],
      "metadata": {
        "id": "Ni9JCquhVnms"
      },
      "execution_count": null,
      "outputs": []
    }
  ]
}